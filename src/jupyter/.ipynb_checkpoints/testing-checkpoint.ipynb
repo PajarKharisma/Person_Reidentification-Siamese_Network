{
 "cells": [
  {
   "cell_type": "code",
   "execution_count": 40,
   "metadata": {
    "scrolled": true
   },
   "outputs": [],
   "source": [
    "import sys\n",
    "sys.path.append(\"../../\")\n",
    "\n",
    "import torch\n",
    "import torchvision.utils\n",
    "import torch.nn.functional as F\n",
    "import torchvision.transforms as transforms\n",
    "from torch.autograd import Variable\n",
    "from torch import optim\n",
    "from torch.utils.data import DataLoader\n",
    "\n",
    "import src.neuralNetworksArch.BasicSiamese as bSiamese\n",
    "import src.utils.Visual as vis\n",
    "import src.utils.DatasetLoader as dsetLoader\n",
    "import src.utils.LossFunction as lossFunc\n",
    "\n",
    "from src.config.Param import *"
   ]
  },
  {
   "cell_type": "code",
   "execution_count": 41,
   "metadata": {
    "scrolled": true
   },
   "outputs": [],
   "source": [
    "MODEL_PATH = '../../models/full-contrastive-basicSiamese-100epoch.pth'\n",
    "DATATEST_PATH = '../../dataset/cuhk02/datatest.csv'\n",
    "IMAGES_PATH = '../../dataset/cuhk02/images/full/'"
   ]
  },
  {
   "cell_type": "code",
   "execution_count": 42,
   "metadata": {
    "scrolled": true
   },
   "outputs": [],
   "source": [
    "trans = transforms.Compose([transforms.ToTensor()])\n",
    "test_dataset = dsetLoader.ContrastiveDataset(csv_path=DATATEST_PATH, images_path=IMAGES_PATH, transform=trans)\n",
    "\n",
    "# test_set, val_set = torch.utils.data.random_split(test_dataset, [10,4])\n",
    "# print('train :', len(test_set))\n",
    "# print('val :', len(val_set))\n",
    "test_dataloader = DataLoader(test_dataset, batch_size=14, shuffle=False)\n",
    "\n",
    "# for i, data in enumerate(test_dataloader):\n",
    "#     _,_,label = data\n",
    "#     print(label)"
   ]
  },
  {
   "cell_type": "code",
   "execution_count": 43,
   "metadata": {
    "scrolled": true
   },
   "outputs": [
    {
     "data": {
      "text/plain": [
       "BasicSiameseNetwork(\n",
       "  (cnn1): Sequential(\n",
       "    (0): ReflectionPad2d((1, 1, 1, 1))\n",
       "    (1): Conv2d(3, 8, kernel_size=(3, 3), stride=(1, 1))\n",
       "    (2): ReLU(inplace=True)\n",
       "    (3): BatchNorm2d(8, eps=1e-05, momentum=0.1, affine=True, track_running_stats=True)\n",
       "    (4): ReflectionPad2d((1, 1, 1, 1))\n",
       "    (5): Conv2d(8, 16, kernel_size=(3, 3), stride=(1, 1))\n",
       "    (6): ReLU(inplace=True)\n",
       "    (7): BatchNorm2d(16, eps=1e-05, momentum=0.1, affine=True, track_running_stats=True)\n",
       "    (8): MaxPool2d(kernel_size=2, stride=2, padding=0, dilation=1, ceil_mode=False)\n",
       "    (9): ReflectionPad2d((1, 1, 1, 1))\n",
       "    (10): Conv2d(16, 16, kernel_size=(3, 3), stride=(1, 1))\n",
       "    (11): ReLU(inplace=True)\n",
       "    (12): BatchNorm2d(16, eps=1e-05, momentum=0.1, affine=True, track_running_stats=True)\n",
       "  )\n",
       "  (avgpool): AdaptiveAvgPool2d(output_size=(30, 80))\n",
       "  (fc1): Sequential(\n",
       "    (0): Linear(in_features=38400, out_features=1000, bias=True)\n",
       "    (1): ReLU(inplace=True)\n",
       "    (2): Linear(in_features=1000, out_features=500, bias=True)\n",
       "    (3): ReLU(inplace=True)\n",
       "    (4): Linear(in_features=500, out_features=100, bias=True)\n",
       "    (5): ReLU(inplace=True)\n",
       "    (6): Linear(in_features=100, out_features=50, bias=True)\n",
       "    (7): Sigmoid()\n",
       "  )\n",
       ")"
      ]
     },
     "execution_count": 43,
     "metadata": {},
     "output_type": "execute_result"
    }
   ],
   "source": [
    "model  = bSiamese.BasicSiameseNetwork()\n",
    "model.load_state_dict(torch.load(MODEL_PATH, map_location=Param.device))\n",
    "model.eval()"
   ]
  },
  {
   "cell_type": "code",
   "execution_count": 50,
   "metadata": {
    "scrolled": false
   },
   "outputs": [
    {
     "name": "stdout",
     "output_type": "stream",
     "text": [
      "[0.0, 0.0, 0.0, 0.0, 0.0, 0.0, 1.0, 1.0, 1.0, 1.0, 1.0, 1.0, 1.0, 1.0]\n"
     ]
    }
   ],
   "source": [
    "with torch.no_grad():\n",
    "    dataiter = iter(test_dataloader)\n",
    "    img1, img2, label = next(dataiter)\n",
    "    out1, out2 = model(img1, img2)\n",
    "    ecl = F.pairwise_distance(out1, out2, keepdim = True)\n",
    "    euclidean_distance = [float(i.item()) for i in ecl]\n",
    "    d = [abs((1 / (1 + e)) - 1) for e in euclidean_distance]\n",
    "    d = [0.0 if dd <= 0.5 else 1.0 for dd in d]\n",
    "    print(d)\n",
    "    \n",
    "#     for i in range(len(test_dataloader)):\n",
    "#         img1, img2, label = next(dataiter)\n",
    "#         concatenated = torch.cat((img1, img2),0)\n",
    "\n",
    "#         img1 = img1.to(Param.device)\n",
    "#         img2 = img2.to(Param.device)\n",
    "#         label = label.to(Param.device)\n",
    "        \n",
    "#         out1, out2 = model(img1, img2)\n",
    "#         euclidean_distance = F.pairwise_distance(out1, out2)\n",
    "#         d = float(euclidean_distance.item())\n",
    "#         d = abs((1 / (1 + d)) - 1)\n",
    "        \n",
    "#         print('Dissimilarity', d)\n",
    "#         vis.imshow(torchvision.utils.make_grid(concatenated))"
   ]
  },
  {
   "cell_type": "code",
   "execution_count": 60,
   "metadata": {
    "scrolled": true
   },
   "outputs": [
    {
     "data": {
      "image/png": "[encoded data removed]",
      "text/plain": [
       "<Figure size 432x288 with 1 Axes>"
      ]
     },
     "metadata": {
      "needs_background": "light"
     },
     "output_type": "display_data"
    }
   ],
   "source": [
    "import matplotlib.pyplot as plt\n",
    "\n",
    "history = {}\n",
    "train = [80,90,100,90,100]\n",
    "val = [60,50,70,80,65]\n",
    "epoch = [10,20,30,40,50]\n",
    "\n",
    "plt.plot(epoch, train)\n",
    "plt.plot(epoch, val)\n",
    "plt.title('model acc')\n",
    "plt.ylabel('acc')\n",
    "plt.xlabel('epoch')\n",
    "plt.legend(['train', 'val'], loc='upper left')\n",
    "plt.show()"
   ]
  },
  {
   "cell_type": "code",
   "execution_count": null,
   "metadata": {},
   "outputs": [],
   "source": []
  }
 ],
 "metadata": {
  "kernelspec": {
   "display_name": "Python 3.7.4 64-bit",
   "language": "python",
   "name": "python37464biteb93521d834e45aeaba8e45a84cf6735"
  },
  "language_info": {
   "codemirror_mode": {
    "name": "ipython",
    "version": 3
   },
   "file_extension": ".py",
   "mimetype": "text/x-python",
   "name": "python",
   "nbconvert_exporter": "python",
   "pygments_lexer": "ipython3",
   "version": "3.7.4"
  }
 },
 "nbformat": 4,
 "nbformat_minor": 2
}
